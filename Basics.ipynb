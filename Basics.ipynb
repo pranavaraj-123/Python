{
 "cells": [
  {
   "cell_type": "code",
   "execution_count": 3,
   "metadata": {},
   "outputs": [],
   "source": [
    "_ahmd = 1\n",
    "_ahmd1 = 2\n",
    "_ahmd_03 = 3"
   ]
  },
  {
   "cell_type": "code",
   "execution_count": 4,
   "metadata": {},
   "outputs": [
    {
     "data": {
      "text/plain": [
       "1"
      ]
     },
     "execution_count": 4,
     "metadata": {},
     "output_type": "execute_result"
    }
   ],
   "source": [
    "_ahmd"
   ]
  },
  {
   "cell_type": "code",
   "execution_count": 5,
   "metadata": {},
   "outputs": [
    {
     "data": {
      "text/plain": [
       "2"
      ]
     },
     "execution_count": 5,
     "metadata": {},
     "output_type": "execute_result"
    }
   ],
   "source": [
    "_ahmd1"
   ]
  },
  {
   "cell_type": "code",
   "execution_count": 6,
   "metadata": {},
   "outputs": [
    {
     "data": {
      "text/plain": [
       "3"
      ]
     },
     "execution_count": 6,
     "metadata": {},
     "output_type": "execute_result"
    }
   ],
   "source": [
    "_ahmd_03"
   ]
  },
  {
   "cell_type": "code",
   "execution_count": 7,
   "metadata": {},
   "outputs": [
    {
     "ename": "ValueError",
     "evalue": "invalid literal for int() with base 10: 'a'",
     "output_type": "error",
     "traceback": [
      "\u001b[0;31m---------------------------------------------------------------------------\u001b[0m",
      "\u001b[0;31mValueError\u001b[0m                                Traceback (most recent call last)",
      "Cell \u001b[0;32mIn[7], line 2\u001b[0m\n\u001b[1;32m      1\u001b[0m a\u001b[38;5;241m=\u001b[39m \u001b[38;5;28minput\u001b[39m(\u001b[38;5;124m\"\u001b[39m\u001b[38;5;124mEnter your Name: \u001b[39m\u001b[38;5;124m\"\u001b[39m)\n\u001b[0;32m----> 2\u001b[0m b\u001b[38;5;241m=\u001b[39m \u001b[38;5;28;43mint\u001b[39;49m\u001b[43m \u001b[49m\u001b[43m(\u001b[49m\u001b[38;5;28;43minput\u001b[39;49m\u001b[43m(\u001b[49m\u001b[38;5;124;43m\"\u001b[39;49m\u001b[38;5;124;43mEnter Your Age: \u001b[39;49m\u001b[38;5;124;43m\"\u001b[39;49m\u001b[43m)\u001b[49m\u001b[43m)\u001b[49m\n\u001b[1;32m      3\u001b[0m c\u001b[38;5;241m=\u001b[39m \u001b[38;5;28minput\u001b[39m (\u001b[38;5;124m\"\u001b[39m\u001b[38;5;124mEnter Your Address: \u001b[39m\u001b[38;5;124m\"\u001b[39m)\n\u001b[1;32m      4\u001b[0m \u001b[38;5;28mprint\u001b[39m(\u001b[38;5;124m'\u001b[39m\u001b[38;5;124mYour Data Has Been Stored... \u001b[39m\u001b[38;5;130;01m\\n\u001b[39;00m\u001b[38;5;124mPlease Check Your Data Given Below...\u001b[39m\u001b[38;5;124m'\u001b[39m)\n",
      "\u001b[0;31mValueError\u001b[0m: invalid literal for int() with base 10: 'a'"
     ]
    }
   ],
   "source": [
    "a= input(\"Enter your Name: \")\n",
    "b= int (input(\"Enter Your Age: \"))\n",
    "c= input (\"Enter Your Address: \")\n",
    "print('Your Data Has Been Stored... \\nPlease Check Your Data Given Below...')\n",
    "print('Name={0}\\n Age={2}\\n Address={1}'.format(a,b,c) )"
   ]
  },
  {
   "cell_type": "code",
   "execution_count": null,
   "metadata": {},
   "outputs": [
    {
     "name": "stdout",
     "output_type": "stream",
     "text": [
      "5.0\n"
     ]
    }
   ],
   "source": [
    "a= int(input(\"Enter the number to covert it into float\"))\n",
    "b=float(a)\n",
    "print (b)"
   ]
  },
  {
   "cell_type": "code",
   "execution_count": null,
   "metadata": {},
   "outputs": [
    {
     "name": "stdout",
     "output_type": "stream",
     "text": [
      "2.0\n"
     ]
    }
   ],
   "source": [
    "a= int(input(\"Enter the number\"))\n",
    "b= int(input(\"Enter any number\"))\n",
    "c= a//b\n",
    "print(float(c))"
   ]
  },
  {
   "cell_type": "code",
   "execution_count": null,
   "metadata": {},
   "outputs": [
    {
     "name": "stdout",
     "output_type": "stream",
     "text": [
      "1.0\n"
     ]
    }
   ],
   "source": [
    "a= int(input(\"Enter the number\"))\n",
    "b= int(input(\"Enter any number\"))\n",
    "c= a//b\n",
    "print(round(float(c),5))"
   ]
  },
  {
   "cell_type": "code",
   "execution_count": null,
   "metadata": {},
   "outputs": [
    {
     "data": {
      "text/plain": [
       "NoneType"
      ]
     },
     "execution_count": 2,
     "metadata": {},
     "output_type": "execute_result"
    }
   ],
   "source": [
    "x= None\n",
    "type(x)"
   ]
  },
  {
   "cell_type": "code",
   "execution_count": 11,
   "metadata": {},
   "outputs": [
    {
     "data": {
      "text/plain": [
       "str"
      ]
     },
     "execution_count": 11,
     "metadata": {},
     "output_type": "execute_result"
    }
   ],
   "source": [
    "x=';one'\n",
    "type(x)"
   ]
  },
  {
   "cell_type": "code",
   "execution_count": 12,
   "metadata": {},
   "outputs": [
    {
     "name": "stdout",
     "output_type": "stream",
     "text": [
      "   Welcome to the Wonderful Calculater     \n",
      "Add= 15\n",
      "Subract= 5\n",
      "Multi= 50\n",
      "Division= 2.0\n",
      "Modules= 0\n",
      "Power= 100000\n",
      "Floor= 2\n"
     ]
    }
   ],
   "source": [
    "print(\"\"\"   Welcome to the Wonderful Calculater     \"\"\")\n",
    "a= int(input(\"Enter a value: \"))\n",
    "b= int(input(\"Enter b Value: \"))\n",
    "print(f'Add= {a+b}\\nSubract= {a-b}\\nMulti= {a*b}\\nDivision= {a/b}\\nModules= {a%b}\\nPower= {a**b}\\nFloor= {a//b}')"
   ]
  },
  {
   "cell_type": "code",
   "execution_count": 13,
   "metadata": {},
   "outputs": [
    {
     "name": "stdout",
     "output_type": "stream",
     "text": [
      "10\n"
     ]
    }
   ],
   "source": [
    "value= ((8-3)*3)-5\n",
    "print(value)"
   ]
  },
  {
   "cell_type": "code",
   "execution_count": 20,
   "metadata": {},
   "outputs": [
    {
     "name": "stdout",
     "output_type": "stream",
     "text": [
      "17795237.426994026\n"
     ]
    }
   ],
   "source": [
    "import math\n",
    "#Given (Circle=50, Radius=34, Price of 1sq feet= 98)\n",
    "\n",
    "Circle= 50\n",
    "Radius= 34\n",
    "Price= 98\n",
    "\n",
    "area= math.pi*Radius*Radius\n",
    "Tot_area= area*Circle\n",
    "Tot_Price= Tot_area*Price\n",
    "print(Tot_Price)"
   ]
  },
  {
   "cell_type": "code",
   "execution_count": 21,
   "metadata": {},
   "outputs": [
    {
     "data": {
      "text/plain": [
       "False"
      ]
     },
     "execution_count": 21,
     "metadata": {},
     "output_type": "execute_result"
    }
   ],
   "source": [
    "a= 5\n",
    "b=21\n",
    "a==b"
   ]
  },
  {
   "cell_type": "code",
   "execution_count": 23,
   "metadata": {},
   "outputs": [
    {
     "data": {
      "text/plain": [
       "True"
      ]
     },
     "execution_count": 23,
     "metadata": {},
     "output_type": "execute_result"
    }
   ],
   "source": [
    "a= 5\n",
    "b=21\n",
    "a!=b"
   ]
  },
  {
   "cell_type": "code",
   "execution_count": 24,
   "metadata": {},
   "outputs": [
    {
     "data": {
      "text/plain": [
       "False"
      ]
     },
     "execution_count": 24,
     "metadata": {},
     "output_type": "execute_result"
    }
   ],
   "source": [
    "a>b"
   ]
  },
  {
   "cell_type": "code",
   "execution_count": 25,
   "metadata": {},
   "outputs": [
    {
     "data": {
      "text/plain": [
       "True"
      ]
     },
     "execution_count": 25,
     "metadata": {},
     "output_type": "execute_result"
    }
   ],
   "source": [
    "a<b"
   ]
  },
  {
   "cell_type": "code",
   "execution_count": 4,
   "metadata": {},
   "outputs": [
    {
     "name": "stdout",
     "output_type": "stream",
     "text": [
      "15 is greater than 2\n"
     ]
    }
   ],
   "source": [
    "x= int(input('Enter A Number: '))\n",
    "y= int(input('Enter Another Number: '))\n",
    "if x>y:\n",
    "    print(x,'is greater than',y)\n",
    "else:\n",
    "    print(x,'is lesser than',y)"
   ]
  },
  {
   "cell_type": "code",
   "execution_count": 6,
   "metadata": {},
   "outputs": [
    {
     "name": "stdout",
     "output_type": "stream",
     "text": [
      "The given value is odd\n"
     ]
    }
   ],
   "source": [
    "a= int(input('enter a value: '))\n",
    "print ('The given value is even') if a%2==0 else print('The given value is odd')"
   ]
  },
  {
   "cell_type": "code",
   "execution_count": 7,
   "metadata": {},
   "outputs": [
    {
     "name": "stdout",
     "output_type": "stream",
     "text": [
      " Non leap year\n"
     ]
    }
   ],
   "source": [
    "a= int(input('Enter the year: '))\n",
    "print('it is a leap year') if a%4==0 else print(' Non leap year')"
   ]
  },
  {
   "cell_type": "code",
   "execution_count": 10,
   "metadata": {},
   "outputs": [
    {
     "name": "stdout",
     "output_type": "stream",
     "text": [
      "A is greater than B\n"
     ]
    }
   ],
   "source": [
    "a= int(input('Enter A Value: '))\n",
    "b= int(input('ENter B value: '))\n",
    "print('A is greater than B') if a>b else('B is greater than A')"
   ]
  },
  {
   "cell_type": "code",
   "execution_count": 11,
   "metadata": {},
   "outputs": [
    {
     "name": "stdout",
     "output_type": "stream",
     "text": [
      "15 is equal to 15\n"
     ]
    }
   ],
   "source": [
    "a= int(input('Enter A Value: '))\n",
    "b= int(input('ENter B value: '))\n",
    "if a>b:\n",
    "    print(a,'is greater than',b)\n",
    "elif a==b:\n",
    "    print(a,'is equal to',b)\n",
    "else:\n",
    "    print(b,'is greater than',a)"
   ]
  },
  {
   "cell_type": "code",
   "execution_count": 12,
   "metadata": {},
   "outputs": [
    {
     "name": "stdout",
     "output_type": "stream",
     "text": [
      "Zero\n"
     ]
    }
   ],
   "source": [
    "a= int(input('Enter a value: '))\n",
    "if a>0:\n",
    "    print('Positive')\n",
    "if a==0:\n",
    "    print('Zero')\n",
    "else:\n",
    "    print('Negative')"
   ]
  },
  {
   "cell_type": "code",
   "execution_count": 16,
   "metadata": {},
   "outputs": [
    {
     "name": "stdout",
     "output_type": "stream",
     "text": [
      "24\n"
     ]
    }
   ],
   "source": [
    "x= input(\"Add=1\\nSub=2\\nmul=3\\ndiv=4\\nmod=5\\nEnter the opertation method:\")\n",
    "a= int(input('Enter a value: '))\n",
    "b= int(input('Enter b value: '))\n",
    "match x:\n",
    "    case '1':\n",
    "        print(a+b)\n",
    "    case '2':\n",
    "        print(a-b)\n",
    "    case '3':\n",
    "        print(a*b)\n",
    "    case '4':\n",
    "        print(a/b)\n",
    "    case '5':\n",
    "        print(a%b)\n",
    "    case _:\n",
    "        print('Invalid Input')"
   ]
  },
  {
   "cell_type": "code",
   "execution_count": 18,
   "metadata": {},
   "outputs": [
    {
     "name": "stdout",
     "output_type": "stream",
     "text": [
      "B is greater than of A and C\n"
     ]
    }
   ],
   "source": [
    "a= int(input('Enter A Value: '))\n",
    "b= int(input('Enter B Value: '))\n",
    "c= int(input('Enter C Value: '))\n",
    "if a>b and a>c:\n",
    "    print('A is greater than of B and C')\n",
    "elif b>c and b>a:\n",
    "    print('B is greater than of A and C')\n",
    "else:\n",
    "    print('C is greater than of A and B')"
   ]
  },
  {
   "cell_type": "code",
   "execution_count": 23,
   "metadata": {},
   "outputs": [
    {
     "name": "stdout",
     "output_type": "stream",
     "text": [
      "Good feedback\n"
     ]
    }
   ],
   "source": [
    "x= input('How is your breakfast: (super/moderate)   ')\n",
    "y= input('How is your lunch: (super/moderate)   ')\n",
    "if x=='super' or y=='super':\n",
    "    print('Good feedback')\n",
    "else:\n",
    "    print('Bad feedback')"
   ]
  },
  {
   "cell_type": "code",
   "execution_count": null,
   "metadata": {},
   "outputs": [],
   "source": []
  }
 ],
 "metadata": {
  "kernelspec": {
   "display_name": ".venv",
   "language": "python",
   "name": "python3"
  },
  "language_info": {
   "codemirror_mode": {
    "name": "ipython",
    "version": 3
   },
   "file_extension": ".py",
   "mimetype": "text/x-python",
   "name": "python",
   "nbconvert_exporter": "python",
   "pygments_lexer": "ipython3",
   "version": "3.11.4"
  }
 },
 "nbformat": 4,
 "nbformat_minor": 2
}
